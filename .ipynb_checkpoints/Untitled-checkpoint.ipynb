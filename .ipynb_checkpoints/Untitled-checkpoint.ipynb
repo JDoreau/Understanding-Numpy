{
 "cells": [
  {
   "cell_type": "code",
   "execution_count": 5,
   "metadata": {},
   "outputs": [],
   "source": [
    "import numpy as np"
   ]
  },
  {
   "cell_type": "code",
   "execution_count": 8,
   "metadata": {},
   "outputs": [
    {
     "name": "stdout",
     "output_type": "stream",
     "text": [
      "1\n",
      "[1 2]\n"
     ]
    },
    {
     "data": {
      "text/plain": [
       "True"
      ]
     },
     "execution_count": 8,
     "metadata": {},
     "output_type": "execute_result"
    }
   ],
   "source": [
    "# Define an array arr with integer elements 1,2,3 and 4\n",
    "integerArray = np.array([1,2,3,4], int)\n",
    "\n",
    "# We can access these elements by using index values\n",
    "print(integerArray[0])\n",
    "\n",
    "# We can also use ranges to access values\n",
    "print(integerArray[:2])\n",
    "\n",
    "# Find if a value exists in the array\n",
    "# Returns true if value exists else returns false\n",
    "2 in integerArray # Returns true"
   ]
  },
  {
   "cell_type": "code",
   "execution_count": 15,
   "metadata": {},
   "outputs": [
    {
     "name": "stdout",
     "output_type": "stream",
     "text": [
      "[1 2 3 4 5 6]\n",
      "[0. 0. 0. 0. 0. 0. 0. 0. 0. 0.]\n",
      "[1 1 1 1 1 1 1 1 1 1]\n"
     ]
    }
   ],
   "source": [
    "integerArray2 = np.array([5,6], int)\n",
    "\n",
    "# Concatenate two arrays\n",
    "print(np.concatenate((integerArray, integerArray2)))\n",
    "\n",
    "# Array of zeros\n",
    "print(np.zeros(10))\n",
    "\n",
    "# Array of ones with type int\n",
    "print(np.ones(10, dtype=int))"
   ]
  },
  {
   "cell_type": "code",
   "execution_count": null,
   "metadata": {},
   "outputs": [],
   "source": []
  }
 ],
 "metadata": {
  "kernelspec": {
   "display_name": "Python 3",
   "language": "python",
   "name": "python3"
  },
  "language_info": {
   "codemirror_mode": {
    "name": "ipython",
    "version": 3
   },
   "file_extension": ".py",
   "mimetype": "text/x-python",
   "name": "python",
   "nbconvert_exporter": "python",
   "pygments_lexer": "ipython3",
   "version": "3.6.5"
  }
 },
 "nbformat": 4,
 "nbformat_minor": 2
}
